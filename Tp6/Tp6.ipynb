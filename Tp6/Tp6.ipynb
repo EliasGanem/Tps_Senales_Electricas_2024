{
 "cells": [
  {
   "cell_type": "markdown",
   "metadata": {},
   "source": [
    "# Tp6 Señales Electricas\n",
    "## Punto 1"
   ]
  },
  {
   "cell_type": "code",
   "execution_count": 2,
   "metadata": {},
   "outputs": [
    {
     "name": "stdout",
     "output_type": "stream",
     "text": [
      "2000.0\n",
      "[0.]\n"
     ]
    }
   ],
   "source": [
    "import numpy as np\n",
    "import matplotlib.pyplot as plt\n",
    "from scipy.signal import square as sq \n",
    "from math import pi\n",
    "\n",
    "\n",
    "periodo = 2\n",
    "frec = 1/periodo\n",
    "frec_muestreo = 1e3\n",
    "cant_muestras = periodo*frec_muestreo\n",
    "\n",
    "valores_t = np.arange(start= 0, stop= periodo, step= cant_muestras)\n",
    "print(valores_t)\n",
    "\n"
   ]
  }
 ],
 "metadata": {
  "kernelspec": {
   "display_name": "Python 3",
   "language": "python",
   "name": "python3"
  },
  "language_info": {
   "codemirror_mode": {
    "name": "ipython",
    "version": 3
   },
   "file_extension": ".py",
   "mimetype": "text/x-python",
   "name": "python",
   "nbconvert_exporter": "python",
   "pygments_lexer": "ipython3",
   "version": "3.12.2"
  }
 },
 "nbformat": 4,
 "nbformat_minor": 2
}
