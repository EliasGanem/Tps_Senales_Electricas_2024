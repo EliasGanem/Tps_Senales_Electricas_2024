{
 "cells": [
  {
   "cell_type": "markdown",
   "metadata": {},
   "source": [
    "# Tp1 Señales Eléctricas 2024"
   ]
  },
  {
   "cell_type": "markdown",
   "metadata": {},
   "source": [
    "## Punto 1"
   ]
  },
  {
   "cell_type": "markdown",
   "metadata": {},
   "source": [
    "### a"
   ]
  },
  {
   "cell_type": "code",
   "execution_count": 2,
   "metadata": {},
   "outputs": [
    {
     "name": "stdout",
     "output_type": "stream",
     "text": [
      "5\n",
      "7\n",
      "11\n",
      "8\n"
     ]
    }
   ],
   "source": [
    "a = 5\n",
    "A = 7\n",
    "b = 8\n",
    "B = 11\n",
    "\n",
    "print(a)\n",
    "print(A)\n",
    "print(B)\n",
    "print(b)"
   ]
  },
  {
   "cell_type": "markdown",
   "metadata": {},
   "source": [
    "### b"
   ]
  },
  {
   "cell_type": "code",
   "execution_count": 3,
   "metadata": {},
   "outputs": [
    {
     "name": "stdout",
     "output_type": "stream",
     "text": [
      "[1, 3, 7, 0]\n",
      "<class 'list'>\n",
      "[1 3 7 0]\n",
      "<class 'numpy.ndarray'>\n"
     ]
    }
   ],
   "source": [
    "import numpy as np\n",
    "lista_v =[1,3,7,0]  # esto es una lista\n",
    "print(lista_v)\n",
    "print(type(lista_v))\n",
    "v = np.array(lista_v)\n",
    "print(v)\n",
    "print(type(v))"
   ]
  },
  {
   "cell_type": "code",
   "execution_count": 4,
   "metadata": {},
   "outputs": [
    {
     "name": "stdout",
     "output_type": "stream",
     "text": [
      "[[5], [6], [2]]\n",
      "<class 'list'>\n",
      "[[5]\n",
      " [6]\n",
      " [2]]\n",
      "<class 'numpy.ndarray'>\n"
     ]
    }
   ],
   "source": [
    "w = [[5],[6],[2]]\n",
    "print(w)\n",
    "print(type(w))\n",
    "w_array = np.array(w)\n",
    "print(w_array)\n",
    "print(type(w_array))"
   ]
  },
  {
   "cell_type": "code",
   "execution_count": 5,
   "metadata": {},
   "outputs": [
    {
     "name": "stdout",
     "output_type": "stream",
     "text": [
      "[5, 6, 2]\n",
      "<class 'list'>\n",
      "[5 6 2]\n",
      "<class 'numpy.ndarray'>\n",
      "[[5]\n",
      " [6]\n",
      " [2]]\n",
      "<class 'numpy.ndarray'>\n"
     ]
    }
   ],
   "source": [
    "# Ahora lo anterior de otra forma\n",
    "w_prueba = [5,6,2]\n",
    "print(w_prueba)\n",
    "print(type(w_prueba))\n",
    "w_prueba_array = np.array(w_prueba)\n",
    "print(w_prueba_array)\n",
    "print(type(w_prueba_array))\n",
    "w_prueba_matriz = np.reshape(w_prueba_array, (3,1)) # dar forma w_prueba_array en una matriz de 3 colum y 1 fila\n",
    "print(w_prueba_matriz)\n",
    "print(type(w_prueba_matriz))\n"
   ]
  },
  {
   "cell_type": "code",
   "execution_count": 6,
   "metadata": {},
   "outputs": [
    {
     "name": "stdout",
     "output_type": "stream",
     "text": [
      "[[0], [-2], [3], [7]]\n",
      "[[ 0]\n",
      " [-2]\n",
      " [ 3]\n",
      " [ 7]]\n",
      "[[ 0 -2  3  7]]\n"
     ]
    }
   ],
   "source": [
    "x = [[0],[-2],[3],[7]]\n",
    "print(x)\n",
    "x = np.array(x)\n",
    "print(x)\n",
    "x_transpuesto = np.transpose(x)\n",
    "print(x_transpuesto)"
   ]
  },
  {
   "cell_type": "markdown",
   "metadata": {},
   "source": [
    "### c"
   ]
  },
  {
   "cell_type": "code",
   "execution_count": 15,
   "metadata": {},
   "outputs": [
    {
     "name": "stdout",
     "output_type": "stream",
     "text": [
      "[[1 3 7 0]]\n",
      "[[5]\n",
      " [6]\n",
      " [2]]\n",
      "[[ 0]\n",
      " [-2]\n",
      " [ 3]\n",
      " [ 7]]\n"
     ]
    }
   ],
   "source": [
    "# Redefino la variables para tenerlas mas a mano\n",
    "\n",
    "a = 5\n",
    "A = 7\n",
    "b = 8\n",
    "B = 11\n",
    "\"\"\"\n",
    "[] hace una lista\n",
    "[[],[],[]] es una matriz donde en cada [] se pones los elemetos de una fila , parece q numpy trabaja mejor así\n",
    "\"\"\"\n",
    "v = np.array([[1,3,7,0]]) # doble corchete me dice que es una matriz y el corchete indica los valores de una fila NOTAR no se coloca el tamaño de la matriz\n",
    "print(v)\n",
    "w = np.array([[5],[6],[2]])\n",
    "print(w)\n",
    "x = np.array([[0],[-2],[3],[7]])\n",
    "print(x)"
   ]
  },
  {
   "cell_type": "code",
   "execution_count": 8,
   "metadata": {},
   "outputs": [
    {
     "name": "stdout",
     "output_type": "stream",
     "text": [
      "35\n"
     ]
    }
   ],
   "source": [
    "# a*A\n",
    "prueba = a*A\n",
    "print(prueba)"
   ]
  },
  {
   "cell_type": "markdown",
   "metadata": {},
   "source": [
    "[warning] Notar \n",
    "que * hace un producto raro, onda es como q multiplica escalarmente una fila por un elento fila de la otra\n",
    "para hacer el producto matricial se usa @ \n"
   ]
  },
  {
   "cell_type": "code",
   "execution_count": 9,
   "metadata": {},
   "outputs": [
    {
     "name": "stdout",
     "output_type": "stream",
     "text": [
      "[[  0   0   0   0]\n",
      " [ -2  -6 -14   0]\n",
      " [  3   9  21   0]\n",
      " [  7  21  49   0]]\n",
      "[[15]]\n"
     ]
    }
   ],
   "source": [
    "# v*x\n",
    "prueba = v*x\n",
    "print(prueba)\n",
    "\n",
    "prueba = v@x\n",
    "print(prueba)"
   ]
  },
  {
   "cell_type": "code",
   "execution_count": 10,
   "metadata": {},
   "outputs": [
    {
     "name": "stdout",
     "output_type": "stream",
     "text": [
      "[[  0   0   0   0]\n",
      " [ -2  -6 -14   0]\n",
      " [  3   9  21   0]\n",
      " [  7  21  49   0]]\n"
     ]
    }
   ],
   "source": [
    "# x*v\n",
    "prueba = x@v\n",
    "print(prueba)"
   ]
  },
  {
   "cell_type": "code",
   "execution_count": 11,
   "metadata": {},
   "outputs": [
    {
     "name": "stdout",
     "output_type": "stream",
     "text": [
      "[[ 5 15 35  0]\n",
      " [ 6 18 42  0]\n",
      " [ 2  6 14  0]]\n"
     ]
    }
   ],
   "source": [
    "# M=w*v\n",
    "M = w@v\n",
    "print(M)"
   ]
  },
  {
   "cell_type": "code",
   "execution_count": 14,
   "metadata": {},
   "outputs": [
    {
     "ename": "ValueError",
     "evalue": "matmul: Input operand 1 has a mismatch in its core dimension 0, with gufunc signature (n?,k),(k,m?)->(n?,m?) (size 3 is different from 4)",
     "output_type": "error",
     "traceback": [
      "\u001b[1;31m---------------------------------------------------------------------------\u001b[0m",
      "\u001b[1;31mValueError\u001b[0m                                Traceback (most recent call last)",
      "Cell \u001b[1;32mIn[14], line 5\u001b[0m\n\u001b[0;32m      1\u001b[0m \u001b[38;5;124;03m\"\"\"\u001b[39;00m\n\u001b[0;32m      2\u001b[0m \u001b[38;5;124;03m v*w no es valido con @ porque v es 1x4 y w es 3x1 no se puede hacer la multiplicacion de matrices\u001b[39;00m\n\u001b[0;32m      3\u001b[0m \u001b[38;5;124;03m sin embargo hacelo con * se si puede porque hace un producto raro\u001b[39;00m\n\u001b[0;32m      4\u001b[0m \u001b[38;5;124;03m \"\"\"\u001b[39;00m\n\u001b[1;32m----> 5\u001b[0m prueba \u001b[38;5;241m=\u001b[39m \u001b[43mv\u001b[49m\u001b[43m \u001b[49m\u001b[38;5;241;43m@\u001b[39;49m\u001b[43m \u001b[49m\u001b[43mw\u001b[49m\n\u001b[0;32m      6\u001b[0m \u001b[38;5;28mprint\u001b[39m(prueba)\n",
      "\u001b[1;31mValueError\u001b[0m: matmul: Input operand 1 has a mismatch in its core dimension 0, with gufunc signature (n?,k),(k,m?)->(n?,m?) (size 3 is different from 4)"
     ]
    }
   ],
   "source": [
    "\"\"\"\n",
    " v*w no es valido con @ porque v es 1x4 y w es 3x1 no se puede hacer la multiplicacion de matrices\n",
    " sin embargo hacelo con * se si puede porque hace un producto raro\n",
    " \"\"\"\n",
    "prueba = v @ w\n",
    "print(prueba)"
   ]
  },
  {
   "cell_type": "code",
   "execution_count": null,
   "metadata": {},
   "outputs": [
    {
     "name": "stdout",
     "output_type": "stream",
     "text": [
      "[[75]\n",
      " [90]\n",
      " [30]]\n"
     ]
    }
   ],
   "source": [
    "# N=M*x\n",
    "N = M@x\n",
    "print(N)"
   ]
  },
  {
   "cell_type": "code",
   "execution_count": null,
   "metadata": {},
   "outputs": [
    {
     "name": "stdout",
     "output_type": "stream",
     "text": [
      "[[ 65 195 455   0]]\n"
     ]
    }
   ],
   "source": [
    "# P=w'*M, la comilla es la transpuesta\n",
    "P = np.transpose(w) @ M\n",
    "print(P)"
   ]
  },
  {
   "cell_type": "markdown",
   "metadata": {},
   "source": [
    "### d"
   ]
  },
  {
   "cell_type": "code",
   "execution_count": 24,
   "metadata": {},
   "outputs": [
    {
     "name": "stdout",
     "output_type": "stream",
     "text": [
      "[[1 3 7 0]]\n",
      "1\n",
      "7\n",
      "[[ 5 15 35  0]\n",
      " [ 6 18 42  0]\n",
      " [ 2  6 14  0]]\n",
      "0\n",
      "14\n"
     ]
    }
   ],
   "source": [
    "# variable[numero de fila][numero de columna]\n",
    "# otra forma es usar .item(numero de elemento) se cuenta de izq a derecha y hacia abajo\n",
    "# notar el indice empieza en 0\n",
    "\n",
    "print(v)\n",
    "print(v[0][0])\n",
    "print(v.item(2))\n",
    "print(M)\n",
    "print(M[2][3])\n",
    "print(M.item(10))"
   ]
  }
 ],
 "metadata": {
  "kernelspec": {
   "display_name": "Python 3",
   "language": "python",
   "name": "python3"
  },
  "language_info": {
   "codemirror_mode": {
    "name": "ipython",
    "version": 3
   },
   "file_extension": ".py",
   "mimetype": "text/x-python",
   "name": "python",
   "nbconvert_exporter": "python",
   "pygments_lexer": "ipython3",
   "version": "3.12.2"
  }
 },
 "nbformat": 4,
 "nbformat_minor": 2
}
