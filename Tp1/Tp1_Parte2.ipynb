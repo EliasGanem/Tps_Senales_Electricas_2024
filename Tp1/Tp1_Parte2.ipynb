{
 "cells": [
  {
   "cell_type": "markdown",
   "metadata": {},
   "source": [
    "# Tp 1 "
   ]
  },
  {
   "cell_type": "markdown",
   "metadata": {},
   "source": [
    "## punto 2\n",
    "### a"
   ]
  },
  {
   "cell_type": "code",
   "execution_count": 1,
   "metadata": {},
   "outputs": [],
   "source": [
    "import math\n",
    "import numpy as np"
   ]
  },
  {
   "cell_type": "code",
   "execution_count": 2,
   "metadata": {},
   "outputs": [
    {
     "name": "stdout",
     "output_type": "stream",
     "text": [
      "[[1 3 7 0]]\n",
      "[[5]\n",
      " [6]\n",
      " [2]]\n",
      "[[ 0]\n",
      " [-2]\n",
      " [ 3]\n",
      " [ 7]]\n"
     ]
    }
   ],
   "source": [
    "a = 5\n",
    "A = 7\n",
    "b = 8\n",
    "B = 11\n",
    "\n",
    "v = np.array([[1,3,7,0]])\n",
    "print(v)\n",
    "w = np.array([[5],[6],[2]])\n",
    "print(w)\n",
    "x = np.array([[0],[-2],[3],[7]])\n",
    "print(x)"
   ]
  },
  {
   "cell_type": "markdown",
   "metadata": {},
   "source": [
    "Las funciones sobre matrices se puedn trabajar sobre una fila, seguro tmb sobre columna pero nose como hacer referencia a una columna"
   ]
  },
  {
   "cell_type": "code",
   "execution_count": 13,
   "metadata": {},
   "outputs": [
    {
     "name": "stdout",
     "output_type": "stream",
     "text": [
      "2\n",
      "6\n",
      "2\n",
      "4.333333333333333\n",
      "6.0\n"
     ]
    }
   ],
   "source": [
    "valor_max_w_fila3 = np.max(w[2])\n",
    "print(valor_max_w_fila1)\n",
    "\n",
    "valor_max_w = np.max(w)\n",
    "print(valor_max_w)\n",
    "\n",
    "valor_min_w = np.min(w)\n",
    "print(valor_min_w)\n",
    "\n",
    "valor_medio_w = np.mean(w)\n",
    "print(valor_medio_w)\n",
    "\n",
    "valor_medio_w_fila2 = np.mean(w[1])\n",
    "print(valor_medio_w_fila2)"
   ]
  },
  {
   "cell_type": "markdown",
   "metadata": {},
   "source": [
    "### b"
   ]
  },
  {
   "cell_type": "code",
   "execution_count": 21,
   "metadata": {},
   "outputs": [
    {
     "name": "stdout",
     "output_type": "stream",
     "text": [
      "5\n",
      "5.123\n"
     ]
    },
    {
     "name": "stdout",
     "output_type": "stream",
     "text": [
      "\u001b[1;31mSignature:\u001b[0m  \u001b[0mround\u001b[0m\u001b[1;33m(\u001b[0m\u001b[0mnumber\u001b[0m\u001b[1;33m,\u001b[0m \u001b[0mndigits\u001b[0m\u001b[1;33m=\u001b[0m\u001b[1;32mNone\u001b[0m\u001b[1;33m)\u001b[0m\u001b[1;33m\u001b[0m\u001b[1;33m\u001b[0m\u001b[0m\n",
      "\u001b[1;31mDocstring:\u001b[0m\n",
      "Round a number to a given precision in decimal digits.\n",
      "\n",
      "The return value is an integer if ndigits is omitted or None.  Otherwise\n",
      "the return value has the same type as the number.  ndigits may be negative.\n",
      "\u001b[1;31mType:\u001b[0m      builtin_function_or_method"
     ]
    }
   ],
   "source": [
    "?? round\n",
    "var_1 = 5.1234567\n",
    "print(round(var_1))\n",
    "print(round(var_1,3))"
   ]
  },
  {
   "cell_type": "code",
   "execution_count": 22,
   "metadata": {},
   "outputs": [
    {
     "name": "stdout",
     "output_type": "stream",
     "text": [
      "6\n"
     ]
    },
    {
     "name": "stdout",
     "output_type": "stream",
     "text": [
      "\u001b[1;31mSignature:\u001b[0m  \u001b[0mmath\u001b[0m\u001b[1;33m.\u001b[0m\u001b[0mceil\u001b[0m\u001b[1;33m(\u001b[0m\u001b[0mx\u001b[0m\u001b[1;33m,\u001b[0m \u001b[1;33m/\u001b[0m\u001b[1;33m)\u001b[0m\u001b[1;33m\u001b[0m\u001b[1;33m\u001b[0m\u001b[0m\n",
      "\u001b[1;31mDocstring:\u001b[0m\n",
      "Return the ceiling of x as an Integral.\n",
      "\n",
      "This is the smallest integer >= x.\n",
      "\u001b[1;31mType:\u001b[0m      builtin_function_or_method"
     ]
    }
   ],
   "source": [
    "# redonde al entero superior\n",
    "?? math.ceil\n",
    "print(math.ceil(var_1))"
   ]
  },
  {
   "cell_type": "code",
   "execution_count": 24,
   "metadata": {},
   "outputs": [
    {
     "name": "stdout",
     "output_type": "stream",
     "text": [
      "5.1234567\n",
      "4.12345\n"
     ]
    },
    {
     "name": "stdout",
     "output_type": "stream",
     "text": [
      "\u001b[1;31mSignature:\u001b[0m  \u001b[0mabs\u001b[0m\u001b[1;33m(\u001b[0m\u001b[0mx\u001b[0m\u001b[1;33m,\u001b[0m \u001b[1;33m/\u001b[0m\u001b[1;33m)\u001b[0m\u001b[1;33m\u001b[0m\u001b[1;33m\u001b[0m\u001b[0m\n",
      "\u001b[1;31mDocstring:\u001b[0m Return the absolute value of the argument.\n",
      "\u001b[1;31mType:\u001b[0m      builtin_function_or_method"
     ]
    }
   ],
   "source": [
    "?? abs\n",
    "\n",
    "var_2 = -4.12345\n",
    "print(abs(var_1))\n",
    "print(abs(var_2))\n"
   ]
  },
  {
   "cell_type": "markdown",
   "metadata": {},
   "source": [
    "## Punto 3\n",
    "### a"
   ]
  },
  {
   "cell_type": "code",
   "execution_count": 27,
   "metadata": {},
   "outputs": [],
   "source": [
    "import matplotlib.pyplot as plt\n",
    "import numpy as np"
   ]
  },
  {
   "cell_type": "code",
   "execution_count": 32,
   "metadata": {},
   "outputs": [
    {
     "name": "stdout",
     "output_type": "stream",
     "text": [
      "<class 'numpy.ndarray'>\n",
      "[ 0  1  2  3  4  5  6  7  8  9 10]\n"
     ]
    }
   ],
   "source": [
    "positivos = np.linspace(start=0, stop=10, num=int((10-0+1)/1), dtype='int')\n",
    "print(type(positivos))\n",
    "print(positivos)"
   ]
  },
  {
   "cell_type": "code",
   "execution_count": 49,
   "metadata": {},
   "outputs": [
    {
     "name": "stdout",
     "output_type": "stream",
     "text": [
      "[-4. -3. -2. -1.  0.  1.  2.]\n",
      "[-4 -3 -2 -1  0  1  2]\n"
     ]
    }
   ],
   "source": [
    "enteros = np.linspace(start=-4, stop=2, num=int((2+4+1)/1)) \n",
    "print(enteros)\n",
    "enteros = np.linspace(start=-4, stop=2, num=int((2+4+1)/1), dtype='int') \n",
    "print(enteros)\n",
    "# si se pone la cant de elementos mal elminia uno si es menor o agrega uno extra si es mayor\n"
   ]
  },
  {
   "cell_type": "code",
   "execution_count": 41,
   "metadata": {},
   "outputs": [
    {
     "name": "stdout",
     "output_type": "stream",
     "text": [
      "[ 0  3  6  9 12]\n"
     ]
    }
   ],
   "source": [
    "multiplos = np.arange(start=0, stop=14, step=3)\n",
    "print(multiplos)\n",
    "# notar que llega hasta 12, xq el siguiente es 15 y es mayor a 14"
   ]
  },
  {
   "cell_type": "code",
   "execution_count": 48,
   "metadata": {},
   "outputs": [
    {
     "name": "stdout",
     "output_type": "stream",
     "text": [
      "[7 5 3 1]\n",
      "[7.  5.5 4.  2.5]\n"
     ]
    }
   ],
   "source": [
    "reverso = np.arange(start=7, stop=2, step= -1.5, dtype='int')\n",
    "print(reverso)\n",
    "reverso = np.arange(start=7, stop=2, step= -1.5)\n",
    "print(reverso)"
   ]
  }
 ],
 "metadata": {
  "kernelspec": {
   "display_name": "Python 3",
   "language": "python",
   "name": "python3"
  },
  "language_info": {
   "codemirror_mode": {
    "name": "ipython",
    "version": 3
   },
   "file_extension": ".py",
   "mimetype": "text/x-python",
   "name": "python",
   "nbconvert_exporter": "python",
   "pygments_lexer": "ipython3",
   "version": "3.12.2"
  }
 },
 "nbformat": 4,
 "nbformat_minor": 2
}
